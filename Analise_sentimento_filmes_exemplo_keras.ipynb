{
  "nbformat": 4,
  "nbformat_minor": 0,
  "metadata": {
    "colab": {
      "name": "Analise-sentimento-filmes-exemplo-keras.ipynb",
      "provenance": [],
      "toc_visible": true,
      "authorship_tag": "ABX9TyPKXEjTOsjn9E2cgxVkRVLu",
      "include_colab_link": true
    },
    "kernelspec": {
      "name": "python3",
      "display_name": "Python 3"
    },
    "language_info": {
      "name": "python"
    }
  },
  "cells": [
    {
      "cell_type": "markdown",
      "metadata": {
        "id": "view-in-github",
        "colab_type": "text"
      },
      "source": [
        "<a href=\"https://colab.research.google.com/github/GustavoSchroeder/Analise-sentimento-filmes-exemplo-keras/blob/main/Analise_sentimento_filmes_exemplo_keras.ipynb\" target=\"_parent\"><img src=\"https://colab.research.google.com/assets/colab-badge.svg\" alt=\"Open In Colab\"/></a>"
      ]
    },
    {
      "cell_type": "markdown",
      "metadata": {
        "id": "nCDl0X65_li8"
      },
      "source": [
        "# Exemplo de aplicação de aprendizagem profunda em análise de sentimento com Keras\n",
        "Adaptado do livro do Chollet (Cap. 3.5: Deep Learning with Python).\n",
        "\n",
        "O software aprende a classificar um comentário sobre um filme como positivo ou negativo."
      ]
    },
    {
      "cell_type": "code",
      "metadata": {
        "id": "orZ1ktjuyHda",
        "colab": {
          "base_uri": "https://localhost:8080/"
        },
        "outputId": "dc357162-d41a-47b2-df56-9d3700d483c0"
      },
      "source": [
        "import keras\n",
        "import numpy as np\n",
        "\n",
        "keras.__version__\n",
        "print(np.__version__)"
      ],
      "execution_count": 1,
      "outputs": [
        {
          "output_type": "stream",
          "text": [
            "1.19.5\n"
          ],
          "name": "stdout"
        }
      ]
    },
    {
      "cell_type": "markdown",
      "metadata": {
        "id": "TktnbJW5_6Bn"
      },
      "source": [
        "# Aqui utilizamos um conjunto de dados do IMDB  - https://www.imdb.com/\n",
        "O IMDB é um conjunto de dados público com comentários classificados entre positivos ou negativos. \n",
        "\n",
        "Os comentários são separados em 25.000 para treinamento e 25.000 para teste. É um conjunto de dados balanceado (50% de comentários positivos e 50% de negativos). Os comandos abaixo carregam o conjunto de dados IMDB."
      ]
    },
    {
      "cell_type": "code",
      "metadata": {
        "colab": {
          "base_uri": "https://localhost:8080/"
        },
        "id": "w6s2qr6y5t8q",
        "outputId": "18054c89-5654-40d5-9d33-1607b5bdfd5e"
      },
      "source": [
        "from keras.datasets import imdb\n",
        "\n",
        "(train_data, train_labels), (test_data, test_labels) = imdb.load_data(num_words=10000)"
      ],
      "execution_count": 2,
      "outputs": [
        {
          "output_type": "stream",
          "text": [
            "Downloading data from https://storage.googleapis.com/tensorflow/tf-keras-datasets/imdb.npz\n",
            "17465344/17464789 [==============================] - 1s 0us/step\n"
          ],
          "name": "stdout"
        },
        {
          "output_type": "stream",
          "text": [
            "<string>:6: VisibleDeprecationWarning: Creating an ndarray from ragged nested sequences (which is a list-or-tuple of lists-or-tuples-or ndarrays with different lengths or shapes) is deprecated. If you meant to do this, you must specify 'dtype=object' when creating the ndarray\n",
            "/usr/local/lib/python3.7/dist-packages/tensorflow/python/keras/datasets/imdb.py:159: VisibleDeprecationWarning: Creating an ndarray from ragged nested sequences (which is a list-or-tuple of lists-or-tuples-or ndarrays with different lengths or shapes) is deprecated. If you meant to do this, you must specify 'dtype=object' when creating the ndarray\n",
            "  x_train, y_train = np.array(xs[:idx]), np.array(labels[:idx])\n",
            "/usr/local/lib/python3.7/dist-packages/tensorflow/python/keras/datasets/imdb.py:160: VisibleDeprecationWarning: Creating an ndarray from ragged nested sequences (which is a list-or-tuple of lists-or-tuples-or ndarrays with different lengths or shapes) is deprecated. If you meant to do this, you must specify 'dtype=object' when creating the ndarray\n",
            "  x_test, y_test = np.array(xs[idx:]), np.array(labels[idx:])\n"
          ],
          "name": "stderr"
        }
      ]
    },
    {
      "cell_type": "markdown",
      "metadata": {
        "id": "3wIdvFdpATBX"
      },
      "source": [
        "`num_words=10000` significa que apenas as 10.000 palavras mais frequentes dos comentários serão utilizadas no treinamento. Palavras mais raras serão descartadas.\n",
        "\n",
        "As variáveis `train_data` and `test_data` são listas de comentários e cada comentário é uma lista de \"índices\" para palavras\n",
        "\n",
        "**Por que o Train Data retorna índices? **\n",
        "Cada número corresponde a uma palavra diferente, mas o mesmo tem que ser buscado em uma estrutura de dicionário\n",
        "\n",
        "\n",
        "As variáveis `train_labels` and `test_labels` são listas de 0 e 1, onde 0 significa um comentário **\"negativo\"** e 1 significa um comentário **\"positivo\"**\n",
        "\n",
        "O comando abaixo mostra um único comentário e depois a sua classificação (como positivo, 1)"
      ]
    },
    {
      "cell_type": "code",
      "metadata": {
        "colab": {
          "base_uri": "https://localhost:8080/"
        },
        "id": "CoEz5qs356bm",
        "outputId": "1319c934-20c9-4422-aa90-c54bb8fa5e46"
      },
      "source": [
        "train_data[0]"
      ],
      "execution_count": 9,
      "outputs": [
        {
          "output_type": "execute_result",
          "data": {
            "text/plain": [
              "[1,\n",
              " 14,\n",
              " 22,\n",
              " 16,\n",
              " 43,\n",
              " 530,\n",
              " 973,\n",
              " 1622,\n",
              " 1385,\n",
              " 65,\n",
              " 458,\n",
              " 4468,\n",
              " 66,\n",
              " 3941,\n",
              " 4,\n",
              " 173,\n",
              " 36,\n",
              " 256,\n",
              " 5,\n",
              " 25,\n",
              " 100,\n",
              " 43,\n",
              " 838,\n",
              " 112,\n",
              " 50,\n",
              " 670,\n",
              " 2,\n",
              " 9,\n",
              " 35,\n",
              " 480,\n",
              " 284,\n",
              " 5,\n",
              " 150,\n",
              " 4,\n",
              " 172,\n",
              " 112,\n",
              " 167,\n",
              " 2,\n",
              " 336,\n",
              " 385,\n",
              " 39,\n",
              " 4,\n",
              " 172,\n",
              " 4536,\n",
              " 1111,\n",
              " 17,\n",
              " 546,\n",
              " 38,\n",
              " 13,\n",
              " 447,\n",
              " 4,\n",
              " 192,\n",
              " 50,\n",
              " 16,\n",
              " 6,\n",
              " 147,\n",
              " 2025,\n",
              " 19,\n",
              " 14,\n",
              " 22,\n",
              " 4,\n",
              " 1920,\n",
              " 4613,\n",
              " 469,\n",
              " 4,\n",
              " 22,\n",
              " 71,\n",
              " 87,\n",
              " 12,\n",
              " 16,\n",
              " 43,\n",
              " 530,\n",
              " 38,\n",
              " 76,\n",
              " 15,\n",
              " 13,\n",
              " 1247,\n",
              " 4,\n",
              " 22,\n",
              " 17,\n",
              " 515,\n",
              " 17,\n",
              " 12,\n",
              " 16,\n",
              " 626,\n",
              " 18,\n",
              " 2,\n",
              " 5,\n",
              " 62,\n",
              " 386,\n",
              " 12,\n",
              " 8,\n",
              " 316,\n",
              " 8,\n",
              " 106,\n",
              " 5,\n",
              " 4,\n",
              " 2223,\n",
              " 5244,\n",
              " 16,\n",
              " 480,\n",
              " 66,\n",
              " 3785,\n",
              " 33,\n",
              " 4,\n",
              " 130,\n",
              " 12,\n",
              " 16,\n",
              " 38,\n",
              " 619,\n",
              " 5,\n",
              " 25,\n",
              " 124,\n",
              " 51,\n",
              " 36,\n",
              " 135,\n",
              " 48,\n",
              " 25,\n",
              " 1415,\n",
              " 33,\n",
              " 6,\n",
              " 22,\n",
              " 12,\n",
              " 215,\n",
              " 28,\n",
              " 77,\n",
              " 52,\n",
              " 5,\n",
              " 14,\n",
              " 407,\n",
              " 16,\n",
              " 82,\n",
              " 2,\n",
              " 8,\n",
              " 4,\n",
              " 107,\n",
              " 117,\n",
              " 5952,\n",
              " 15,\n",
              " 256,\n",
              " 4,\n",
              " 2,\n",
              " 7,\n",
              " 3766,\n",
              " 5,\n",
              " 723,\n",
              " 36,\n",
              " 71,\n",
              " 43,\n",
              " 530,\n",
              " 476,\n",
              " 26,\n",
              " 400,\n",
              " 317,\n",
              " 46,\n",
              " 7,\n",
              " 4,\n",
              " 2,\n",
              " 1029,\n",
              " 13,\n",
              " 104,\n",
              " 88,\n",
              " 4,\n",
              " 381,\n",
              " 15,\n",
              " 297,\n",
              " 98,\n",
              " 32,\n",
              " 2071,\n",
              " 56,\n",
              " 26,\n",
              " 141,\n",
              " 6,\n",
              " 194,\n",
              " 7486,\n",
              " 18,\n",
              " 4,\n",
              " 226,\n",
              " 22,\n",
              " 21,\n",
              " 134,\n",
              " 476,\n",
              " 26,\n",
              " 480,\n",
              " 5,\n",
              " 144,\n",
              " 30,\n",
              " 5535,\n",
              " 18,\n",
              " 51,\n",
              " 36,\n",
              " 28,\n",
              " 224,\n",
              " 92,\n",
              " 25,\n",
              " 104,\n",
              " 4,\n",
              " 226,\n",
              " 65,\n",
              " 16,\n",
              " 38,\n",
              " 1334,\n",
              " 88,\n",
              " 12,\n",
              " 16,\n",
              " 283,\n",
              " 5,\n",
              " 16,\n",
              " 4472,\n",
              " 113,\n",
              " 103,\n",
              " 32,\n",
              " 15,\n",
              " 16,\n",
              " 5345,\n",
              " 19,\n",
              " 178,\n",
              " 32]"
            ]
          },
          "metadata": {
            "tags": []
          },
          "execution_count": 9
        }
      ]
    },
    {
      "cell_type": "code",
      "metadata": {
        "colab": {
          "base_uri": "https://localhost:8080/"
        },
        "id": "WjNBgvzu6iL5",
        "outputId": "50a66754-c4b5-4a55-881c-9eb9a9161fa4"
      },
      "source": [
        "train_labels[0]"
      ],
      "execution_count": 10,
      "outputs": [
        {
          "output_type": "execute_result",
          "data": {
            "text/plain": [
              "1"
            ]
          },
          "metadata": {
            "tags": []
          },
          "execution_count": 10
        }
      ]
    },
    {
      "cell_type": "markdown",
      "metadata": {
        "id": "J8kcQrhrBWAu"
      },
      "source": [
        "*Os* comandos abaixo mostram a primeira sentença com as palavras ao invés de números:"
      ]
    },
    {
      "cell_type": "code",
      "metadata": {
        "id": "MNMjaFaX6qvT"
      },
      "source": [
        "# word_index é o dicionário que mapeia cada palavra em um número \n",
        "word_index = imdb.get_word_index()\n",
        "# Aqui nós invertemos o mapeamento pois queremos mapear os números em palavras\n",
        "reverse_word_index = dict([(value, key) for (key, value) in word_index.items()])\n",
        "# Abaixo uma sequência é decodificada usando o dicionários. O i-3 é porque os 3 primeiros índices são reservados.\n",
        "decoded_review = ' '.join([reverse_word_index.get(i - 3, '?') for i in train_data[0]])"
      ],
      "execution_count": 11,
      "outputs": []
    },
    {
      "cell_type": "code",
      "metadata": {
        "colab": {
          "base_uri": "https://localhost:8080/",
          "height": 120
        },
        "id": "wwYKKcjP6tkj",
        "outputId": "fa2907fb-ceb4-47f3-cef4-8e53a70dd088"
      },
      "source": [
        "decoded_review"
      ],
      "execution_count": null,
      "outputs": [
        {
          "output_type": "execute_result",
          "data": {
            "application/vnd.google.colaboratory.intrinsic+json": {
              "type": "string"
            },
            "text/plain": [
              "\"? the ? ? at storytelling the traditional sort many years after the event i can still see in my ? eye an elderly lady my friend's mother retelling the battle of ? she makes the characters come alive her passion is that of an eye witness one to the events on the ? heath a mile or so from where she lives br br of course it happened many years before she was born but you wouldn't guess from the way she tells it the same story is told in bars the length and ? of scotland as i discussed it with a friend one night in ? a local cut in to give his version the discussion continued to closing time br br stories passed down like this become part of our being who doesn't remember the stories our parents told us when we were children they become our invisible world and as we grow older they maybe still serve as inspiration or as an emotional ? fact and fiction blend with ? role models warning stories ? magic and mystery br br my name is ? like my grandfather and his grandfather before him our protagonist introduces himself to us and also introduces the story that stretches back through generations it produces stories within stories stories that evoke the ? wonder of scotland its rugged mountains ? in ? the stuff of legend yet ? is ? in reality this is what gives it its special charm it has a rough beauty and authenticity ? with some of the finest ? singing you will ever hear br br ? ? visits his grandfather in hospital shortly before his death he burns with frustration part of him ? to be in the twenty first century to hang out in ? but he is raised on the western ? among a ? speaking community br br yet there is a deeper conflict within him he ? to know the truth the truth behind his ? ancient stories where does fiction end and he wants to know the truth behind the death of his parents br br he is pulled to make a last ? journey to the ? of one of ? most ? mountains can the truth be told or is it all in stories br br in this story about stories we ? bloody battles ? lovers the ? of old and the sometimes more ? ? of accepted truth in doing so we each connect with ? as he lives the story of his own life br br ? the ? ? is probably the most honest ? and genuinely beautiful film of scotland ever made like ? i got slightly annoyed with the ? of hanging stories on more stories but also like ? i ? this once i saw the ? picture ' forget the box office ? of braveheart and its like you might even ? the ? famous ? of the wicker man to see a film that is true to scotland this one is probably unique if you maybe ? on it deeply enough you might even re ? the power of storytelling and the age old question of whether there are some truths that cannot be told but only experienced\""
            ]
          },
          "metadata": {
            "tags": []
          },
          "execution_count": 17
        }
      ]
    },
    {
      "cell_type": "markdown",
      "metadata": {
        "id": "YQ4KxEXjCtHI"
      },
      "source": [
        "# Preparação dos Dados\n",
        "\n",
        "Para usar as redes neurais profundas no Keras é preciso alterar o formato da entrada (**precisa ser um tensor e não uma lista**). \n",
        "\n",
        "Neste exemplo é usado um método bem simples mas existem outras formas mais eficientes (E.g.: word embeddings). \n",
        "\n",
        "No método simples, para cada comentário, é criado um vetor (que é um tipo de tensor) com 10.000 posições em que cada posição conterá 1 ou 0 para indicar se aquela palavra está ou não presente no comentário."
      ]
    },
    {
      "cell_type": "code",
      "metadata": {
        "id": "E8F-7Zs-7LuV"
      },
      "source": [
        "def vectorize_sequences(sequences, dimension=10000):\n",
        "    # Cria uma matriz zerada para todos os vetores que serão associados a cada comentário\n",
        "    results = np.zeros((len(sequences), dimension))\n",
        "    for i, sequence in enumerate(sequences):\n",
        "        results[i, sequence] = 1.  \n",
        "    return results\n",
        "\n",
        "x_train = vectorize_sequences(train_data)\n",
        "x_test = vectorize_sequences(test_data)"
      ],
      "execution_count": 13,
      "outputs": []
    },
    {
      "cell_type": "markdown",
      "metadata": {
        "id": "S1O6NAJ4DCFw"
      },
      "source": [
        "Exemplo de como um comentário é representado agora \n",
        "\n",
        "(note que se perde informação sobre a sequência e agora sabemos apenas se uma determinada palavra está ou não presente no comentário)"
      ]
    },
    {
      "cell_type": "code",
      "metadata": {
        "colab": {
          "base_uri": "https://localhost:8080/"
        },
        "id": "YOeyGeX-7QBm",
        "outputId": "e5b09712-0386-4bfb-8d59-277959d7fd62"
      },
      "source": [
        "x_train[3]"
      ],
      "execution_count": 14,
      "outputs": [
        {
          "output_type": "execute_result",
          "data": {
            "text/plain": [
              "array([0., 1., 1., ..., 0., 0., 0.])"
            ]
          },
          "metadata": {
            "tags": []
          },
          "execution_count": 14
        }
      ]
    },
    {
      "cell_type": "markdown",
      "metadata": {
        "id": "SZsIaYNxF5oT"
      },
      "source": [
        "As listas com as classificações também precisam ser transformadas em vetores/tensores"
      ]
    },
    {
      "cell_type": "code",
      "metadata": {
        "id": "Q9gQPZNy7UuK"
      },
      "source": [
        "y_train = np.asarray(train_labels).astype('float32')\n",
        "y_test = np.asarray(test_labels).astype('float32')"
      ],
      "execution_count": 15,
      "outputs": []
    },
    {
      "cell_type": "markdown",
      "metadata": {
        "id": "j54pGYGoGHHZ"
      },
      "source": [
        "## Construindo a rede neural profunda\n",
        "\n",
        "Vamos agora iniciar a criação de uma rede com arquitetura de 3 camadas (além da camada de entrada), todas completamente conectadas (Dense) e com a função de ativação \"Relu\" para as camadas ocultas e \"sigmoid\" para a camada de saída.\n",
        "\n",
        "** ReLU é a função de ativação mais amplamente utilizada ao projetar redes neurais atualmente. Primeiramente, a função ReLU é não linear, o que significa que podemos facilmente copiar os erros para trás e ter várias camadas de neurônios ativados pela função ReLU.\n",
        "\n",
        "A principal vantagem de usar a função ReLU sobre outras funções de ativação é que ela não ativa todos os neurônios ao mesmo tempo."
      ]
    },
    {
      "cell_type": "code",
      "metadata": {
        "id": "ASLY2aukGGWe"
      },
      "source": [
        "from keras import models\n",
        "from keras import layers\n",
        "\n",
        "model = models.Sequential()\n",
        "model.add(layers.Dense(16, activation='relu', input_shape=(10000,)))\n",
        "model.add(layers.Dense(16, activation='relu'))\n",
        "model.add(layers.Dense(1, activation='sigmoid'))"
      ],
      "execution_count": 16,
      "outputs": []
    },
    {
      "cell_type": "markdown",
      "metadata": {
        "id": "NRRdAZuoHpnQ"
      },
      "source": [
        "Por fim, a rede é criada usando como função de **perda a entropia cruzada binária** (`binary_crossentropy`) e técnica de otimização baseada na **propagação da raiz do erro quadrático médio** (`rmsprop`) com taxa de aprendizagem (lr) de 0.001. \n",
        "\n",
        "A métrica acurácia (`accuracy`) é usada na validação do modelo.\n",
        "\n"
      ]
    },
    {
      "cell_type": "code",
      "metadata": {
        "id": "IxLZVozfHq92"
      },
      "source": [
        "from keras import optimizers\n",
        "\n",
        "model.compile(optimizer=optimizers.RMSprop(lr=0.001),\n",
        "              loss='binary_crossentropy',\n",
        "              metrics=['accuracy'])"
      ],
      "execution_count": 17,
      "outputs": []
    },
    {
      "cell_type": "markdown",
      "metadata": {
        "id": "EAEuZehLIW6O"
      },
      "source": [
        "# Aprendendo e monitorando o aprendizado usando um conjunto de validação\n",
        "\n",
        "Um conjunto de validação contendo 10.000 dos 25.000 exemplos de treinamento é criado abaixo."
      ]
    },
    {
      "cell_type": "code",
      "metadata": {
        "id": "y9SNyKYJJLEZ"
      },
      "source": [
        "x_val = x_train[:10000]\n",
        "partial_x_train = x_train[10000:]\n",
        "\n",
        "y_val = y_train[:10000]\n",
        "partial_y_train = y_train[10000:]"
      ],
      "execution_count": 18,
      "outputs": []
    },
    {
      "cell_type": "markdown",
      "metadata": {
        "id": "2wTpThHeJNN9"
      },
      "source": [
        "Abaixo ocorre o treinamento da rede usando 20 épocas e tamanho do lote igual a 512."
      ]
    },
    {
      "cell_type": "code",
      "metadata": {
        "colab": {
          "base_uri": "https://localhost:8080/"
        },
        "id": "F1ZtfuC1JPHm",
        "outputId": "adf49c0d-eb7c-44d9-bd56-cbd98127d76e"
      },
      "source": [
        "history = model.fit(partial_x_train,\n",
        "                    partial_y_train,\n",
        "                    epochs=20,\n",
        "                    batch_size=512,\n",
        "                    validation_data=(x_val, y_val))"
      ],
      "execution_count": 19,
      "outputs": [
        {
          "output_type": "stream",
          "text": [
            "Epoch 1/20\n",
            "30/30 [==============================] - 2s 55ms/step - loss: 0.5819 - accuracy: 0.6874 - val_loss: 0.3627 - val_accuracy: 0.8693\n",
            "Epoch 2/20\n",
            "30/30 [==============================] - 1s 34ms/step - loss: 0.2931 - accuracy: 0.9075 - val_loss: 0.3085 - val_accuracy: 0.8789\n",
            "Epoch 3/20\n",
            "30/30 [==============================] - 1s 34ms/step - loss: 0.2092 - accuracy: 0.9376 - val_loss: 0.3153 - val_accuracy: 0.8702\n",
            "Epoch 4/20\n",
            "30/30 [==============================] - 1s 34ms/step - loss: 0.1653 - accuracy: 0.9470 - val_loss: 0.2770 - val_accuracy: 0.8896\n",
            "Epoch 5/20\n",
            "30/30 [==============================] - 1s 34ms/step - loss: 0.1313 - accuracy: 0.9597 - val_loss: 0.3078 - val_accuracy: 0.8812\n",
            "Epoch 6/20\n",
            "30/30 [==============================] - 1s 35ms/step - loss: 0.1060 - accuracy: 0.9708 - val_loss: 0.3163 - val_accuracy: 0.8812\n",
            "Epoch 7/20\n",
            "30/30 [==============================] - 1s 34ms/step - loss: 0.0839 - accuracy: 0.9780 - val_loss: 0.3200 - val_accuracy: 0.8830\n",
            "Epoch 8/20\n",
            "30/30 [==============================] - 1s 34ms/step - loss: 0.0678 - accuracy: 0.9828 - val_loss: 0.3600 - val_accuracy: 0.8759\n",
            "Epoch 9/20\n",
            "30/30 [==============================] - 1s 34ms/step - loss: 0.0551 - accuracy: 0.9855 - val_loss: 0.3662 - val_accuracy: 0.8789\n",
            "Epoch 10/20\n",
            "30/30 [==============================] - 1s 34ms/step - loss: 0.0455 - accuracy: 0.9901 - val_loss: 0.3959 - val_accuracy: 0.8736\n",
            "Epoch 11/20\n",
            "30/30 [==============================] - 1s 34ms/step - loss: 0.0365 - accuracy: 0.9940 - val_loss: 0.4345 - val_accuracy: 0.8760\n",
            "Epoch 12/20\n",
            "30/30 [==============================] - 1s 35ms/step - loss: 0.0284 - accuracy: 0.9953 - val_loss: 0.4560 - val_accuracy: 0.8710\n",
            "Epoch 13/20\n",
            "30/30 [==============================] - 1s 34ms/step - loss: 0.0195 - accuracy: 0.9976 - val_loss: 0.5312 - val_accuracy: 0.8605\n",
            "Epoch 14/20\n",
            "30/30 [==============================] - 1s 35ms/step - loss: 0.0184 - accuracy: 0.9981 - val_loss: 0.5255 - val_accuracy: 0.8701\n",
            "Epoch 15/20\n",
            "30/30 [==============================] - 1s 35ms/step - loss: 0.0125 - accuracy: 0.9992 - val_loss: 0.5562 - val_accuracy: 0.8714\n",
            "Epoch 16/20\n",
            "30/30 [==============================] - 1s 34ms/step - loss: 0.0088 - accuracy: 0.9996 - val_loss: 0.6606 - val_accuracy: 0.8613\n",
            "Epoch 17/20\n",
            "30/30 [==============================] - 1s 35ms/step - loss: 0.0114 - accuracy: 0.9985 - val_loss: 0.6301 - val_accuracy: 0.8673\n",
            "Epoch 18/20\n",
            "30/30 [==============================] - 1s 35ms/step - loss: 0.0049 - accuracy: 0.9997 - val_loss: 0.6617 - val_accuracy: 0.8657\n",
            "Epoch 19/20\n",
            "30/30 [==============================] - 1s 35ms/step - loss: 0.0081 - accuracy: 0.9982 - val_loss: 0.6937 - val_accuracy: 0.8666\n",
            "Epoch 20/20\n",
            "30/30 [==============================] - 1s 35ms/step - loss: 0.0027 - accuracy: 1.0000 - val_loss: 0.7773 - val_accuracy: 0.8576\n"
          ],
          "name": "stdout"
        }
      ]
    },
    {
      "cell_type": "markdown",
      "metadata": {
        "id": "kzBbuWTQJTxY"
      },
      "source": [
        "A variável \"history\" irá conter informações úteis para analisar o treinamento"
      ]
    },
    {
      "cell_type": "code",
      "metadata": {
        "colab": {
          "base_uri": "https://localhost:8080/"
        },
        "id": "o0DLd9BQJXzF",
        "outputId": "97bf987c-a733-43b0-b8a3-7743867bb491"
      },
      "source": [
        "history_dict = history.history\n",
        "history_dict.keys()"
      ],
      "execution_count": 20,
      "outputs": [
        {
          "output_type": "execute_result",
          "data": {
            "text/plain": [
              "dict_keys(['loss', 'accuracy', 'val_loss', 'val_accuracy'])"
            ]
          },
          "metadata": {
            "tags": []
          },
          "execution_count": 20
        }
      ]
    },
    {
      "cell_type": "markdown",
      "metadata": {
        "id": "YEFERHkCKb0-"
      },
      "source": [
        "O código abaixo mostra informações gráficas sobre como a perda (da função de perda) e a acurácia variaram entre as épocas para o conjunto de treinamento e de validação."
      ]
    },
    {
      "cell_type": "code",
      "metadata": {
        "colab": {
          "base_uri": "https://localhost:8080/",
          "height": 295
        },
        "id": "w5_nHS_IKbnO",
        "outputId": "f8d3ba8f-3851-46b9-b109-5277d5eeda9b"
      },
      "source": [
        "import matplotlib.pyplot as plt\n",
        "\n",
        "acc = history.history['accuracy']\n",
        "val_acc = history.history['val_accuracy']\n",
        "loss = history.history['loss']\n",
        "val_loss = history.history['val_loss']\n",
        "\n",
        "epochs = range(1, len(acc) + 1)\n",
        "\n",
        "# \"bo\" é para linha pontilhada em azul (\"blue dot\")\n",
        "plt.plot(epochs, loss, 'bo', label='Perda no treinamento')\n",
        "# \"b\" é para linha solida em azul \n",
        "plt.plot(epochs, val_loss, 'b', label='Perda na validação')\n",
        "plt.title('Perda no treinamento e na validação')\n",
        "plt.xlabel('Epocas')\n",
        "plt.ylabel('Perda')\n",
        "plt.legend()\n",
        "\n",
        "plt.show()"
      ],
      "execution_count": 25,
      "outputs": [
        {
          "output_type": "display_data",
          "data": {
            "image/png": "[encoded data removed]",
            "text/plain": [
              "<Figure size 432x288 with 1 Axes>"
            ]
          },
          "metadata": {
            "tags": [],
            "needs_background": "light"
          }
        }
      ]
    },
    {
      "cell_type": "code",
      "metadata": {
        "colab": {
          "base_uri": "https://localhost:8080/",
          "height": 297
        },
        "id": "7cQ-i7AqUayd",
        "outputId": "5a96f2cd-4055-498c-8a73-aa7c6ac66184"
      },
      "source": [
        "plt.clf()  \n",
        "acc_values = history_dict['accuracy']\n",
        "val_acc_values = history_dict['val_accuracy']\n",
        "\n",
        "plt.plot(epochs, acc, 'bo', label='Acurácia no treinamento')\n",
        "plt.plot(epochs, val_acc, 'b', label='Acurácia na validação')\n",
        "plt.title('Acurácia no treinamento e na validação')\n",
        "plt.xlabel('Épocas')\n",
        "plt.ylabel('Acurácia')\n",
        "plt.legend()\n",
        "\n",
        "plt.show()"
      ],
      "execution_count": 27,
      "outputs": [
        {
          "output_type": "display_data",
          "data": {
            "image/png": "[encoded data removed]",
            "text/plain": [
              "<Figure size 432x288 with 1 Axes>"
            ]
          },
          "metadata": {
            "tags": [],
            "needs_background": "light"
          }
        }
      ]
    },
    {
      "cell_type": "markdown",
      "metadata": {
        "id": "irs0iZorKgdF"
      },
      "source": [
        "# Usando a rede treinada para classificar o conjunto de teste\n",
        "\n",
        "Quanto mais próximo de 1 o valor, maior a \"confiança\" de que seja um comentário positivo, quanto mais próximo de 0, maior a \"confiança\" em um resultado negativo."
      ]
    },
    {
      "cell_type": "code",
      "metadata": {
        "colab": {
          "base_uri": "https://localhost:8080/"
        },
        "id": "EsGWnhXVKn-6",
        "outputId": "2a004cb7-e6b0-43c2-8bc5-1c63d05cb749"
      },
      "source": [
        "predito = model.predict(x_test)\n",
        "print(predito)\n",
        "\n",
        "# Real\n",
        "print(y_test)"
      ],
      "execution_count": 29,
      "outputs": [
        {
          "output_type": "stream",
          "text": [
            "[[0.00289968]\n",
            " [1.        ]\n",
            " [0.6079294 ]\n",
            " ...\n",
            " [0.0011206 ]\n",
            " [0.00732797]\n",
            " [0.79822683]]\n",
            "[0. 1. 1. ... 0. 0. 0.]\n"
          ],
          "name": "stdout"
        }
      ]
    }
  ]
}