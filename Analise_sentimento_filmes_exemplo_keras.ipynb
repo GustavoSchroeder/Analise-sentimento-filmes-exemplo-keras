{
  "nbformat": 4,
  "nbformat_minor": 0,
  "metadata": {
    "colab": {
      "name": "Analise-sentimento-filmes-exemplo-keras.ipynb",
      "provenance": [],
      "authorship_tag": "ABX9TyPDl7cVb2VKSgIO0WYo3GfW",
      "include_colab_link": true
    },
    "kernelspec": {
      "name": "python3",
      "display_name": "Python 3"
    },
    "language_info": {
      "name": "python"
    }
  },
  "cells": [
    {
      "cell_type": "markdown",
      "metadata": {
        "id": "view-in-github",
        "colab_type": "text"
      },
      "source": [
        "<a href=\"https://colab.research.google.com/github/GustavoSchroeder/Analise-sentimento-filmes-exemplo-keras/blob/main/Analise_sentimento_filmes_exemplo_keras.ipynb\" target=\"_parent\"><img src=\"https://colab.research.google.com/assets/colab-badge.svg\" alt=\"Open In Colab\"/></a>"
      ]
    },
    {
      "cell_type": "code",
      "metadata": {
        "id": "orZ1ktjuyHda"
      },
      "source": [
        ""
      ],
      "execution_count": null,
      "outputs": []
    }
  ]
}